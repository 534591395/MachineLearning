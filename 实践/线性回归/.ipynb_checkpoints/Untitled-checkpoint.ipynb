{
 "cells": [
  {
   "cell_type": "code",
   "execution_count": 13,
   "metadata": {
    "scrolled": true
   },
   "outputs": [
    {
     "data": {
      "text/plain": [
       "<matplotlib.collections.PathCollection at 0x96b1400>"
      ]
     },
     "execution_count": 13,
     "metadata": {},
     "output_type": "execute_result"
    },
    {
     "data": {
      "image/png": "[encoded data removed]",
      "text/plain": [
       "<matplotlib.figure.Figure at 0xd75a6d8>"
      ]
     },
     "metadata": {},
     "output_type": "display_data"
    }
   ],
   "source": [
    "import numpy as np \n",
    "import tensorflow as tf\n",
    "import matplotlib.pyplot as plt\n",
    "\n",
    "%matplotlib inline\n",
    "\n",
    "data_x = np.linspace(0,10,30)\n",
    "data_y = data_x * 3 + 7 + np.random.normal(0,1,30)\n",
    "\n",
    "plt.scatter(data_x, data_y)\n"
   ]
  },
  {
   "cell_type": "code",
   "execution_count": 58,
   "metadata": {
    "collapsed": true
   },
   "outputs": [],
   "source": [
    "#w = tf.Variable(1.0,  name='quanzhong')\n",
    "w = tf.Variable(tf.constant(1.0))\n",
    "b = tf.Variable(tf.constant(0.0), name='quanzhi')\n",
    "\n",
    "x = tf.placeholder(tf.float32, shape=None, name='x')\n",
    "y = tf.placeholder(tf.float32, shape=[None], name='y')"
   ]
  },
  {
   "cell_type": "code",
   "execution_count": 59,
   "metadata": {
    "collapsed": true
   },
   "outputs": [],
   "source": [
    "pred = tf.multiply(x, w) + b"
   ]
  },
  {
   "cell_type": "code",
   "execution_count": 60,
   "metadata": {
    "collapsed": true
   },
   "outputs": [],
   "source": [
    "loss = tf.reduce_sum( tf.squared_difference(pred, y) )"
   ]
  },
  {
   "cell_type": "code",
   "execution_count": 64,
   "metadata": {
    "collapsed": true
   },
   "outputs": [],
   "source": [
    "#learn_rate = 0.00001\n",
    "global_steps = tf.Variable(0, trainable=False)  \n",
    "learn_rate = tf.train.exponential_decay(0.00001, global_steps, 10, 2, staircase=False)  "
   ]
  },
  {
   "cell_type": "code",
   "execution_count": 65,
   "metadata": {
    "collapsed": true
   },
   "outputs": [],
   "source": [
    "train_step = tf.train.GradientDescentOptimizer(learn_rate).minimize(loss)"
   ]
  },
  {
   "cell_type": "code",
   "execution_count": 66,
   "metadata": {},
   "outputs": [
    {
     "name": "stdout",
     "output_type": "stream",
     "text": [
      "[9333.5596, 1.061335, 0.010221658, 9.9999997e-06]\n",
      "[316.99493, 3.8084311, 1.4453254, 9.9999997e-06]\n",
      "[241.06129, 3.6804829, 2.3064418, 9.9999997e-06]\n",
      "[185.28534, 3.5708249, 3.0444624, 9.9999997e-06]\n",
      "[144.31598, 3.4768422, 3.6769831, 9.9999997e-06]\n",
      "[114.22275, 3.3962951, 4.2190819, 9.9999997e-06]\n",
      "[92.118233, 3.3272624, 4.6836867, 9.9999997e-06]\n",
      "[75.881668, 3.2680974, 5.0818768, 9.9999997e-06]\n",
      "[63.955452, 3.217391, 5.4231434, 9.9999997e-06]\n",
      "[55.195129, 3.1739321, 5.7156281, 9.9999997e-06]\n",
      "43.6067\n"
     ]
    }
   ],
   "source": [
    "with  tf.Session() as sess:\n",
    "    sess.run(tf.global_variables_initializer())\n",
    "    for i in range(10000):\n",
    "      sess.run(train_step, feed_dict={x:data_x,y:data_y})\n",
    "      if i%1000 == 0:\n",
    "        print(sess.run([loss,w,b,learn_rate], feed_dict={x:data_x,y:data_y}))\n",
    "\n",
    "    print(sess.run(12*w+b))"
   ]
  },
  {
   "cell_type": "code",
   "execution_count": 7,
   "metadata": {},
   "outputs": [
    {
     "name": "stdout",
     "output_type": "stream",
     "text": [
      "[6411.731, 1.6270633, 0.10289305]\n",
      "[35.134941, 3.3020713, 5.3004074]\n",
      "[22.124525, 3.1484096, 6.3345838]\n",
      "[21.530949, 3.1155877, 6.555481]\n",
      "[21.50386, 3.1085777, 6.6026607]\n",
      "[21.502634, 3.1070805, 6.6127353]\n",
      "[21.502577, 3.1067617, 6.6148806]\n",
      "[21.502581, 3.1066973, 6.6153169]\n",
      "[21.502581, 3.1066973, 6.6153169]\n",
      "[21.502581, 3.1066973, 6.6153169]\n",
      "43.8957\n"
     ]
    },
    {
     "data": {
      "image/png": "[encoded data removed]",
      "text/plain": [
       "<matplotlib.figure.Figure at 0xdc209e8>"
      ]
     },
     "metadata": {},
     "output_type": "display_data"
    }
   ],
   "source": [
    "import numpy as np \n",
    "import tensorflow as tf\n",
    "import matplotlib.pyplot as plt\n",
    "\n",
    "\n",
    "data_x = np.linspace(0,10,30)\n",
    "data_y = data_x * 3 + 7 + np.random.normal(0,1,30)\n",
    "\n",
    "plt.scatter(data_x, data_y)\n",
    "\n",
    "#print(data_y)\n",
    "\n",
    "\n",
    "# 1. 定义参数；2.输入训练数据；3.执行推断；4.计算损失；5.训练模型，减少损失；6.评估\n",
    "\n",
    "# y = w*x + b;\n",
    "#定义参数\n",
    "w = tf.Variable(1., name='quanzhong')\n",
    "b = tf.Variable(0., name='pianzhi')\n",
    "\n",
    "# 占位符\n",
    "# 输入训练数据\n",
    "x = tf.placeholder(tf.float32, shape=None)\n",
    "y = tf.placeholder(tf.float32, shape=[None])\n",
    "\n",
    "# 执行推断 \n",
    "# pred = x * w + b\n",
    "pred = tf.multiply(x, w) + b\n",
    "\n",
    "# 计算损失\n",
    "# 计算x 和y 之间的平方差后，相加\n",
    "loss = tf.reduce_sum(tf.squared_difference(pred, y))\n",
    "\n",
    "# 训练模型\n",
    "# 梯度下降算法\n",
    "# 学习速率\n",
    "learn_rate = 0.0001\n",
    "# 调用 GradientDescentOptimizer 梯度下降算法，目标为最小化loss\n",
    "# 模型\n",
    "train_step = tf.train.GradientDescentOptimizer(learn_rate).minimize(loss)\n",
    "\n",
    "# 训练\n",
    "sess = tf.Session()\n",
    "# 初始化变量\n",
    "sess.run(tf.global_variables_initializer())\n",
    "\n",
    "# 训练1万次\n",
    "for i in range(10000):\n",
    "  sess.run(train_step, feed_dict={x:data_x,y:data_y})\n",
    "  if i%1000 == 0:\n",
    "    print(sess.run([loss,w,b], feed_dict={x:data_x,y:data_y}))\n",
    "\n",
    "print(sess.run(12*w+b))\n",
    "saver = tf.train.Saver()\n",
    "saver.save(sess, \"Model/model.ckpt\")\n",
    "\n",
    "#writer = tf.summary.FileWriter('D://log', sess.graph);"
   ]
  },
  {
   "cell_type": "code",
   "execution_count": null,
   "metadata": {
    "collapsed": true
   },
   "outputs": [],
   "source": []
  },
  {
   "cell_type": "code",
   "execution_count": null,
   "metadata": {
    "collapsed": true
   },
   "outputs": [],
   "source": []
  }
 ],
 "metadata": {
  "kernelspec": {
   "display_name": "Python 3",
   "language": "python",
   "name": "python3"
  },
  "language_info": {
   "codemirror_mode": {
    "name": "ipython",
    "version": 3
   },
   "file_extension": ".py",
   "mimetype": "text/x-python",
   "name": "python",
   "nbconvert_exporter": "python",
   "pygments_lexer": "ipython3",
   "version": "3.6.3"
  }
 },
 "nbformat": 4,
 "nbformat_minor": 2
}
